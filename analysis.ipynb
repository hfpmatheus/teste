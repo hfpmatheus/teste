{
 "cells": [
  {
   "cell_type": "markdown",
   "id": "58c2489b",
   "metadata": {
    "ExecuteTime": {
     "end_time": "2022-03-22T18:12:23.252023Z",
     "start_time": "2022-03-22T18:12:21.781616Z"
    }
   },
   "source": [
    "# 0.0. IMPORTS"
   ]
  },
  {
   "cell_type": "code",
   "execution_count": 92,
   "id": "b5c86628",
   "metadata": {
    "ExecuteTime": {
     "end_time": "2022-03-24T10:57:46.913719Z",
     "start_time": "2022-03-24T10:57:46.892776Z"
    }
   },
   "outputs": [],
   "source": [
    "import inflection\n",
    "\n",
    "import pandas  as pd\n",
    "import numpy   as np\n",
    "import seaborn as sns\n",
    "\n",
    "from matplotlib import pyplot as plt"
   ]
  },
  {
   "cell_type": "markdown",
   "id": "e3e8d306",
   "metadata": {},
   "source": [
    "## 0.1. Load and Merge datasets"
   ]
  },
  {
   "cell_type": "code",
   "execution_count": 93,
   "id": "665eb60b",
   "metadata": {
    "ExecuteTime": {
     "end_time": "2022-03-24T10:57:47.039639Z",
     "start_time": "2022-03-24T10:57:46.916710Z"
    }
   },
   "outputs": [],
   "source": [
    "df_produtos = pd.read_csv( \"datasets/produtos.csv\" )\n",
    "df_vendas   = pd.read_csv( \"datasets/vendas.csv\" )\n",
    "\n",
    "df = pd.merge( df_vendas, df_produtos, how=\"left\", on=\"ID_PRODUTO\")"
   ]
  },
  {
   "cell_type": "markdown",
   "id": "c3a2538e",
   "metadata": {},
   "source": [
    "# 1.0. DATA DESCRIPTION"
   ]
  },
  {
   "cell_type": "code",
   "execution_count": 94,
   "id": "dd3297ab",
   "metadata": {
    "ExecuteTime": {
     "end_time": "2022-03-24T10:57:47.055494Z",
     "start_time": "2022-03-24T10:57:47.041497Z"
    }
   },
   "outputs": [],
   "source": [
    "df1 = df.copy()"
   ]
  },
  {
   "cell_type": "markdown",
   "id": "956f7008",
   "metadata": {},
   "source": [
    "## 1.1. Columns Description"
   ]
  },
  {
   "cell_type": "code",
   "execution_count": 95,
   "id": "2dfa4921",
   "metadata": {
    "ExecuteTime": {
     "end_time": "2022-03-24T10:57:47.071541Z",
     "start_time": "2022-03-24T10:57:47.056459Z"
    }
   },
   "outputs": [
    {
     "data": {
      "text/plain": [
       "Index(['DATA', 'ID_PRODUTO', 'VALOR_VENDA', 'FAIXA_HORARIO', 'NOME_PRODUTO',\n",
       "       'PREÇO_KG', 'PESO_MEDIO_UNITARIO_KG'],\n",
       "      dtype='object')"
      ]
     },
     "execution_count": 95,
     "metadata": {},
     "output_type": "execute_result"
    }
   ],
   "source": [
    "df1.columns"
   ]
  },
  {
   "cell_type": "markdown",
   "id": "5a7669db",
   "metadata": {},
   "source": [
    "- **DATA**: Data em que a venda foi efetuada;\n",
    "\n",
    "- **FAIXA_HORARIO**: Faixa de horário em que a venda foi efetuada;\n",
    "\n",
    "- **ID_PRODUTO**: Chave única que identifica um produto;\n",
    "\n",
    "- **PESO_MEDIO_UNITARIO_KG**: Peso médio do produto medido em kilogramas;\n",
    "\n",
    "- **PREÇO_KG**: Preço médio pago por kg;\n",
    "\n",
    "- **NOME_PRODUTO**: Nome do produto;\n",
    "\n",
    "- **VALOR_VENDA**: Valor total da venda para um determinado produto."
   ]
  },
  {
   "cell_type": "markdown",
   "id": "fdc63012",
   "metadata": {},
   "source": [
    "### 1.1.1. Rename columns to snakecase"
   ]
  },
  {
   "cell_type": "code",
   "execution_count": 96,
   "id": "215cd644",
   "metadata": {
    "ExecuteTime": {
     "end_time": "2022-03-24T10:57:47.087375Z",
     "start_time": "2022-03-24T10:57:47.073436Z"
    }
   },
   "outputs": [],
   "source": [
    "cols = ['DATA', 'ID_PRODUTO', 'VALOR_VENDA', 'FAIXA_HORARIO', 'NOME_PRODUTO',\n",
    "       'PREÇO_KG', 'PESO_MEDIO_UNITARIO_KG']\n",
    "\n",
    "# camelcase cols to snakecase\n",
    "snakecase = lambda x: inflection.underscore( x )\n",
    "new_cols = list( map( snakecase , cols ) )\n",
    "new_cols\n",
    "\n",
    "# renaming cols\n",
    "df1.columns = new_cols\n",
    "\n",
    "# removing \"ç\" in \"preço_kg\"\n",
    "df1 = df1.rename(columns={'preço_kg': 'preco_kg'})"
   ]
  },
  {
   "cell_type": "markdown",
   "id": "7455268f",
   "metadata": {},
   "source": [
    "## 1.2. Data Dimensions"
   ]
  },
  {
   "cell_type": "code",
   "execution_count": 97,
   "id": "d403bc2c",
   "metadata": {
    "ExecuteTime": {
     "end_time": "2022-03-24T10:57:47.102335Z",
     "start_time": "2022-03-24T10:57:47.089371Z"
    }
   },
   "outputs": [
    {
     "name": "stdout",
     "output_type": "stream",
     "text": [
      "Number of rows: 9806\n",
      "Number of columns: 7\n"
     ]
    }
   ],
   "source": [
    "print( 'Number of rows: {}'.format( df1.shape[0] ) )\n",
    "print( 'Number of columns: {}'.format( df1.shape[1] ) )"
   ]
  },
  {
   "cell_type": "markdown",
   "id": "71555dff",
   "metadata": {},
   "source": [
    "## 1.3. Data Types"
   ]
  },
  {
   "cell_type": "code",
   "execution_count": 98,
   "id": "0f0e5952",
   "metadata": {
    "ExecuteTime": {
     "end_time": "2022-03-24T10:57:47.117294Z",
     "start_time": "2022-03-24T10:57:47.103333Z"
    }
   },
   "outputs": [
    {
     "data": {
      "text/plain": [
       "data                      object\n",
       "id_produto                 int64\n",
       "valor_venda               object\n",
       "faixa_horario             object\n",
       "nome_produto              object\n",
       "preco_kg                  object\n",
       "peso_medio_unitario_kg    object\n",
       "dtype: object"
      ]
     },
     "execution_count": 98,
     "metadata": {},
     "output_type": "execute_result"
    }
   ],
   "source": [
    "df1.dtypes"
   ]
  },
  {
   "cell_type": "markdown",
   "id": "512caa62",
   "metadata": {},
   "source": [
    "### 1.3.1. Change data types"
   ]
  },
  {
   "cell_type": "code",
   "execution_count": 99,
   "id": "deeac5af",
   "metadata": {
    "ExecuteTime": {
     "end_time": "2022-03-24T10:57:47.180321Z",
     "start_time": "2022-03-24T10:57:47.119291Z"
    }
   },
   "outputs": [],
   "source": [
    "# data\n",
    "df1['data'] = pd.to_datetime( df1['data'] )\n",
    "\n",
    "# valor_venda\n",
    "df1['valor_venda'] = df1['valor_venda'].apply( lambda x: x.replace( ',', '.' ) )\n",
    "df1['valor_venda'] = df1['valor_venda'].astype( float )\n",
    "\n",
    "# preco_kg\n",
    "df1['preco_kg'] = df1['preco_kg'].apply( lambda x: x.replace( ',', '.' ) )\n",
    "df1['preco_kg'] = df1['preco_kg'].astype( float )\n",
    "\n",
    "# peso_medio_unitario_kg\n",
    "df1['peso_medio_unitario_kg'] = df1['peso_medio_unitario_kg'].apply( lambda x: x.replace( ',', '.' ) )\n",
    "df1['peso_medio_unitario_kg'] = df1['peso_medio_unitario_kg'].astype( float )"
   ]
  },
  {
   "cell_type": "markdown",
   "id": "bb101398",
   "metadata": {},
   "source": [
    "## 1.4. NA Check"
   ]
  },
  {
   "cell_type": "code",
   "execution_count": 100,
   "id": "91dad06a",
   "metadata": {
    "ExecuteTime": {
     "end_time": "2022-03-24T10:57:47.196478Z",
     "start_time": "2022-03-24T10:57:47.181284Z"
    }
   },
   "outputs": [
    {
     "data": {
      "text/plain": [
       "data                      0\n",
       "id_produto                0\n",
       "valor_venda               0\n",
       "faixa_horario             0\n",
       "nome_produto              0\n",
       "preco_kg                  0\n",
       "peso_medio_unitario_kg    0\n",
       "dtype: int64"
      ]
     },
     "execution_count": 100,
     "metadata": {},
     "output_type": "execute_result"
    }
   ],
   "source": [
    "df1.isna().sum()"
   ]
  },
  {
   "cell_type": "markdown",
   "id": "88b25b1d",
   "metadata": {},
   "source": [
    "### 1.4.1. NA Fullfill"
   ]
  },
  {
   "cell_type": "markdown",
   "id": "6693e005",
   "metadata": {},
   "source": [
    "No need"
   ]
  },
  {
   "cell_type": "markdown",
   "id": "a214ee46",
   "metadata": {},
   "source": [
    "## 1.5.Descriptive Statistics"
   ]
  },
  {
   "cell_type": "code",
   "execution_count": 101,
   "id": "26227bf2",
   "metadata": {
    "ExecuteTime": {
     "end_time": "2022-03-24T10:57:47.243331Z",
     "start_time": "2022-03-24T10:57:47.198319Z"
    }
   },
   "outputs": [
    {
     "data": {
      "text/html": [
       "<div>\n",
       "<style scoped>\n",
       "    .dataframe tbody tr th:only-of-type {\n",
       "        vertical-align: middle;\n",
       "    }\n",
       "\n",
       "    .dataframe tbody tr th {\n",
       "        vertical-align: top;\n",
       "    }\n",
       "\n",
       "    .dataframe thead th {\n",
       "        text-align: right;\n",
       "    }\n",
       "</style>\n",
       "<table border=\"1\" class=\"dataframe\">\n",
       "  <thead>\n",
       "    <tr style=\"text-align: right;\">\n",
       "      <th></th>\n",
       "      <th>min</th>\n",
       "      <th>max</th>\n",
       "      <th>range</th>\n",
       "      <th>mean</th>\n",
       "      <th>median</th>\n",
       "      <th>std</th>\n",
       "    </tr>\n",
       "  </thead>\n",
       "  <tbody>\n",
       "    <tr>\n",
       "      <th>valor_venda</th>\n",
       "      <td>1.50</td>\n",
       "      <td>35.95</td>\n",
       "      <td>34.45</td>\n",
       "      <td>16.36</td>\n",
       "      <td>16.32</td>\n",
       "      <td>8.59</td>\n",
       "    </tr>\n",
       "    <tr>\n",
       "      <th>preco_kg</th>\n",
       "      <td>1.30</td>\n",
       "      <td>31.42</td>\n",
       "      <td>30.12</td>\n",
       "      <td>10.29</td>\n",
       "      <td>4.79</td>\n",
       "      <td>9.40</td>\n",
       "    </tr>\n",
       "    <tr>\n",
       "      <th>peso_medio_unitario_kg</th>\n",
       "      <td>0.04</td>\n",
       "      <td>1.44</td>\n",
       "      <td>1.41</td>\n",
       "      <td>0.37</td>\n",
       "      <td>0.15</td>\n",
       "      <td>0.39</td>\n",
       "    </tr>\n",
       "  </tbody>\n",
       "</table>\n",
       "</div>"
      ],
      "text/plain": [
       "                        min   max  range  mean  median  std\n",
       "valor_venda            1.50 35.95  34.45 16.36   16.32 8.59\n",
       "preco_kg               1.30 31.42  30.12 10.29    4.79 9.40\n",
       "peso_medio_unitario_kg 0.04  1.44   1.41  0.37    0.15 0.39"
      ]
     },
     "execution_count": 101,
     "metadata": {},
     "output_type": "execute_result"
    }
   ],
   "source": [
    "pd.set_option('display.float_format', lambda x: '%.2f' % x)\n",
    "\n",
    "# numeric attributes\n",
    "df_num = df1[['valor_venda','preco_kg','peso_medio_unitario_kg']]\n",
    "\n",
    "# central tendency - mean, median\n",
    "ct1 = pd.DataFrame( df_num.apply( np.mean ) ).T\n",
    "ct2 = pd.DataFrame( df_num.apply( np.median ) ).T\n",
    "\n",
    "# dispersion metrics - std, max, min, range\n",
    "dm1 = pd.DataFrame( df_num.apply( np.std ) ).T\n",
    "dm2 = pd.DataFrame( df_num.apply( np.min ) ).T\n",
    "dm3 = pd.DataFrame( df_num.apply( np.max ) ).T\n",
    "dm4 = pd.DataFrame( df_num.apply( lambda x: x.max() - x.min() ) ).T                    \n",
    "\n",
    "# concat\n",
    "metrics = pd.concat( [dm2, dm3, dm4, ct1, ct2, dm1 ] ).T\n",
    "metrics.columns = [ 'min','max','range','mean','median','std' ]\n",
    "metrics"
   ]
  },
  {
   "cell_type": "markdown",
   "id": "cb4953b8",
   "metadata": {},
   "source": [
    "# 2.0. FEATURE ENGINEERING"
   ]
  },
  {
   "cell_type": "code",
   "execution_count": 102,
   "id": "343853b0",
   "metadata": {
    "ExecuteTime": {
     "end_time": "2022-03-24T10:57:47.259418Z",
     "start_time": "2022-03-24T10:57:47.244328Z"
    }
   },
   "outputs": [],
   "source": [
    "df2 = df1.copy()"
   ]
  },
  {
   "cell_type": "code",
   "execution_count": 103,
   "id": "6eba2235",
   "metadata": {
    "ExecuteTime": {
     "end_time": "2022-03-24T10:57:47.274331Z",
     "start_time": "2022-03-24T10:57:47.261285Z"
    }
   },
   "outputs": [],
   "source": [
    "# semana do ano\n",
    "df2['semana_do_ano'] = df2['data'].dt.isocalendar().week\n",
    "\n",
    "# quantidade de kg vendido na transação\n",
    "df2['kg_vendido'] = df2['valor_venda'] /  df2['preco_kg']"
   ]
  },
  {
   "cell_type": "markdown",
   "id": "1dbd142e",
   "metadata": {},
   "source": [
    "# 3.0. EXPLORATORY DATA ANALYSIS"
   ]
  },
  {
   "cell_type": "code",
   "execution_count": 104,
   "id": "bdd99375",
   "metadata": {
    "ExecuteTime": {
     "end_time": "2022-03-24T10:57:47.289337Z",
     "start_time": "2022-03-24T10:57:47.275246Z"
    }
   },
   "outputs": [],
   "source": [
    "df3 = df2.copy()"
   ]
  },
  {
   "cell_type": "markdown",
   "id": "7bf75d8e",
   "metadata": {},
   "source": [
    "## 1. Como está a evolução do meu faturamento em geral (todos os produtos)?"
   ]
  },
  {
   "cell_type": "code",
   "execution_count": 105,
   "id": "478244c7",
   "metadata": {
    "ExecuteTime": {
     "end_time": "2022-03-24T10:57:47.586715Z",
     "start_time": "2022-03-24T10:57:47.291205Z"
    }
   },
   "outputs": [
    {
     "data": {
      "image/png": "[encoded data removed]",
      "text/plain": [
       "<Figure size 432x288 with 1 Axes>"
      ]
     },
     "metadata": {
      "needs_background": "light"
     },
     "output_type": "display_data"
    }
   ],
   "source": [
    "aux = df3[['semana_do_ano','valor_venda']].groupby( 'semana_do_ano' ).sum().reset_index()\n",
    "sns.barplot( x='semana_do_ano', y='valor_venda', data=aux );"
   ]
  },
  {
   "cell_type": "code",
   "execution_count": 107,
   "id": "6776076c",
   "metadata": {
    "ExecuteTime": {
     "end_time": "2022-03-24T10:57:59.859545Z",
     "start_time": "2022-03-24T10:57:59.818297Z"
    }
   },
   "outputs": [
    {
     "data": {
      "text/plain": [
       "12267.605"
      ]
     },
     "execution_count": 107,
     "metadata": {},
     "output_type": "execute_result"
    }
   ],
   "source": [
    "aux['valor_venda'].median()"
   ]
  },
  {
   "cell_type": "code",
   "execution_count": 83,
   "id": "b5393569",
   "metadata": {
    "ExecuteTime": {
     "end_time": "2022-03-23T20:11:20.772263Z",
     "start_time": "2022-03-23T20:11:20.583691Z"
    }
   },
   "outputs": [
    {
     "data": {
      "image/png": "[encoded data removed]",
      "text/plain": [
       "<Figure size 432x288 with 1 Axes>"
      ]
     },
     "metadata": {
      "needs_background": "light"
     },
     "output_type": "display_data"
    }
   ],
   "source": [
    "sns.lineplot( x='semana_do_ano', y='valor_venda', data=aux );"
   ]
  },
  {
   "cell_type": "markdown",
   "id": "ed8320d8",
   "metadata": {
    "heading_collapsed": true
   },
   "source": [
    "## 2. Qual foi o meu melhor dia em vendas?\n"
   ]
  },
  {
   "cell_type": "code",
   "execution_count": 84,
   "id": "5449b328",
   "metadata": {
    "ExecuteTime": {
     "end_time": "2022-03-23T20:11:20.788253Z",
     "start_time": "2022-03-23T20:11:20.773259Z"
    },
    "hidden": true
   },
   "outputs": [
    {
     "data": {
      "text/html": [
       "<div>\n",
       "<style scoped>\n",
       "    .dataframe tbody tr th:only-of-type {\n",
       "        vertical-align: middle;\n",
       "    }\n",
       "\n",
       "    .dataframe tbody tr th {\n",
       "        vertical-align: top;\n",
       "    }\n",
       "\n",
       "    .dataframe thead th {\n",
       "        text-align: right;\n",
       "    }\n",
       "</style>\n",
       "<table border=\"1\" class=\"dataframe\">\n",
       "  <thead>\n",
       "    <tr style=\"text-align: right;\">\n",
       "      <th></th>\n",
       "      <th>data</th>\n",
       "      <th>valor_venda</th>\n",
       "    </tr>\n",
       "  </thead>\n",
       "  <tbody>\n",
       "    <tr>\n",
       "      <th>86</th>\n",
       "      <td>2021-10-26</td>\n",
       "      <td>2365.34</td>\n",
       "    </tr>\n",
       "    <tr>\n",
       "      <th>14</th>\n",
       "      <td>2021-08-15</td>\n",
       "      <td>2222.69</td>\n",
       "    </tr>\n",
       "    <tr>\n",
       "      <th>88</th>\n",
       "      <td>2021-10-28</td>\n",
       "      <td>2222.08</td>\n",
       "    </tr>\n",
       "    <tr>\n",
       "      <th>89</th>\n",
       "      <td>2021-10-29</td>\n",
       "      <td>2196.56</td>\n",
       "    </tr>\n",
       "    <tr>\n",
       "      <th>69</th>\n",
       "      <td>2021-10-09</td>\n",
       "      <td>2159.19</td>\n",
       "    </tr>\n",
       "  </tbody>\n",
       "</table>\n",
       "</div>"
      ],
      "text/plain": [
       "         data  valor_venda\n",
       "86 2021-10-26      2365.34\n",
       "14 2021-08-15      2222.69\n",
       "88 2021-10-28      2222.08\n",
       "89 2021-10-29      2196.56\n",
       "69 2021-10-09      2159.19"
      ]
     },
     "execution_count": 84,
     "metadata": {},
     "output_type": "execute_result"
    }
   ],
   "source": [
    "aux = df3[['data','valor_venda']].groupby( 'data' ).sum().reset_index()\n",
    "aux.sort_values( 'valor_venda', ascending=False ).head()"
   ]
  },
  {
   "cell_type": "markdown",
   "id": "b337d973",
   "metadata": {
    "hidden": true
   },
   "source": [
    "O melhor dia em vendas foi **26-10-2021**. O pico pode ser observado também no gráfico abaixo:"
   ]
  },
  {
   "cell_type": "code",
   "execution_count": 85,
   "id": "c7cad5f5",
   "metadata": {
    "ExecuteTime": {
     "end_time": "2022-03-23T20:11:20.947876Z",
     "start_time": "2022-03-23T20:11:20.790214Z"
    },
    "hidden": true
   },
   "outputs": [
    {
     "data": {
      "image/png": "[encoded data removed]",
      "text/plain": [
       "<Figure size 432x288 with 1 Axes>"
      ]
     },
     "metadata": {
      "needs_background": "light"
     },
     "output_type": "display_data"
    }
   ],
   "source": [
    "sns.lineplot( x='data', y='valor_venda', data=aux );\n",
    "plt.xticks( rotation=45 );"
   ]
  },
  {
   "cell_type": "markdown",
   "id": "3a2dbe42",
   "metadata": {
    "heading_collapsed": true
   },
   "source": [
    "## 3. Qual foi o dia em que eu mais vendi Bananas?"
   ]
  },
  {
   "cell_type": "code",
   "execution_count": 86,
   "id": "941d9a79",
   "metadata": {
    "ExecuteTime": {
     "end_time": "2022-03-23T20:11:20.978714Z",
     "start_time": "2022-03-23T20:11:20.948792Z"
    },
    "hidden": true
   },
   "outputs": [
    {
     "data": {
      "text/html": [
       "<div>\n",
       "<style scoped>\n",
       "    .dataframe tbody tr th:only-of-type {\n",
       "        vertical-align: middle;\n",
       "    }\n",
       "\n",
       "    .dataframe tbody tr th {\n",
       "        vertical-align: top;\n",
       "    }\n",
       "\n",
       "    .dataframe thead th {\n",
       "        text-align: right;\n",
       "    }\n",
       "</style>\n",
       "<table border=\"1\" class=\"dataframe\">\n",
       "  <thead>\n",
       "    <tr style=\"text-align: right;\">\n",
       "      <th></th>\n",
       "      <th>index</th>\n",
       "      <th>data</th>\n",
       "      <th>nome_produto</th>\n",
       "      <th>kg_vendido</th>\n",
       "    </tr>\n",
       "  </thead>\n",
       "  <tbody>\n",
       "    <tr>\n",
       "      <th>88</th>\n",
       "      <td>1226</td>\n",
       "      <td>2021-10-28</td>\n",
       "      <td>Banana</td>\n",
       "      <td>60.90</td>\n",
       "    </tr>\n",
       "    <tr>\n",
       "      <th>87</th>\n",
       "      <td>1212</td>\n",
       "      <td>2021-10-27</td>\n",
       "      <td>Banana</td>\n",
       "      <td>51.41</td>\n",
       "    </tr>\n",
       "    <tr>\n",
       "      <th>15</th>\n",
       "      <td>210</td>\n",
       "      <td>2021-08-16</td>\n",
       "      <td>Banana</td>\n",
       "      <td>49.45</td>\n",
       "    </tr>\n",
       "    <tr>\n",
       "      <th>14</th>\n",
       "      <td>196</td>\n",
       "      <td>2021-08-15</td>\n",
       "      <td>Banana</td>\n",
       "      <td>49.11</td>\n",
       "    </tr>\n",
       "    <tr>\n",
       "      <th>86</th>\n",
       "      <td>1198</td>\n",
       "      <td>2021-10-26</td>\n",
       "      <td>Banana</td>\n",
       "      <td>48.91</td>\n",
       "    </tr>\n",
       "  </tbody>\n",
       "</table>\n",
       "</div>"
      ],
      "text/plain": [
       "    index       data nome_produto  kg_vendido\n",
       "88   1226 2021-10-28       Banana       60.90\n",
       "87   1212 2021-10-27       Banana       51.41\n",
       "15    210 2021-08-16       Banana       49.45\n",
       "14    196 2021-08-15       Banana       49.11\n",
       "86   1198 2021-10-26       Banana       48.91"
      ]
     },
     "execution_count": 86,
     "metadata": {},
     "output_type": "execute_result"
    }
   ],
   "source": [
    "aux = df3[['data','nome_produto','kg_vendido']].groupby(['data','nome_produto']).sum().reset_index()\n",
    "aux = aux[aux['nome_produto'] == 'Banana'].reset_index()\n",
    "aux.sort_values( 'kg_vendido', ascending=False ).head()"
   ]
  },
  {
   "cell_type": "markdown",
   "id": "41498592",
   "metadata": {
    "hidden": true
   },
   "source": [
    "O dia em que foram vendidas mais bananas foi **28-10-2021**."
   ]
  },
  {
   "cell_type": "markdown",
   "id": "4362609c",
   "metadata": {
    "heading_collapsed": true
   },
   "source": [
    "## 4. Qual produto eu vendo em maior quantidade (kg)?"
   ]
  },
  {
   "cell_type": "code",
   "execution_count": 90,
   "id": "8261214c",
   "metadata": {
    "ExecuteTime": {
     "end_time": "2022-03-23T20:19:41.141608Z",
     "start_time": "2022-03-23T20:19:41.119227Z"
    },
    "hidden": true,
    "scrolled": true
   },
   "outputs": [
    {
     "data": {
      "text/html": [
       "<div>\n",
       "<style scoped>\n",
       "    .dataframe tbody tr th:only-of-type {\n",
       "        vertical-align: middle;\n",
       "    }\n",
       "\n",
       "    .dataframe tbody tr th {\n",
       "        vertical-align: top;\n",
       "    }\n",
       "\n",
       "    .dataframe thead th {\n",
       "        text-align: right;\n",
       "    }\n",
       "</style>\n",
       "<table border=\"1\" class=\"dataframe\">\n",
       "  <thead>\n",
       "    <tr style=\"text-align: right;\">\n",
       "      <th></th>\n",
       "      <th>nome_produto</th>\n",
       "      <th>kg_vendido</th>\n",
       "    </tr>\n",
       "  </thead>\n",
       "  <tbody>\n",
       "    <tr>\n",
       "      <th>6</th>\n",
       "      <td>Laranja</td>\n",
       "      <td>8009.02</td>\n",
       "    </tr>\n",
       "    <tr>\n",
       "      <th>12</th>\n",
       "      <td>Tangerina</td>\n",
       "      <td>5842.42</td>\n",
       "    </tr>\n",
       "    <tr>\n",
       "      <th>7</th>\n",
       "      <td>Limão</td>\n",
       "      <td>5797.62</td>\n",
       "    </tr>\n",
       "    <tr>\n",
       "      <th>8</th>\n",
       "      <td>Mamão</td>\n",
       "      <td>3252.48</td>\n",
       "    </tr>\n",
       "    <tr>\n",
       "      <th>9</th>\n",
       "      <td>Maçã</td>\n",
       "      <td>3192.76</td>\n",
       "    </tr>\n",
       "  </tbody>\n",
       "</table>\n",
       "</div>"
      ],
      "text/plain": [
       "   nome_produto  kg_vendido\n",
       "6       Laranja     8009.02\n",
       "12    Tangerina     5842.42\n",
       "7         Limão     5797.62\n",
       "8         Mamão     3252.48\n",
       "9          Maçã     3192.76"
      ]
     },
     "execution_count": 90,
     "metadata": {},
     "output_type": "execute_result"
    }
   ],
   "source": [
    "aux = df3[['nome_produto','kg_vendido']].groupby( 'nome_produto' ).sum().reset_index()\n",
    "aux.sort_values( 'kg_vendido', ascending=False ).head()"
   ]
  },
  {
   "cell_type": "markdown",
   "id": "b811d202",
   "metadata": {
    "hidden": true
   },
   "source": [
    "O produto vendido em maior quantidade é a **laranja**, seguida da **tangerina** e do **limão**."
   ]
  },
  {
   "cell_type": "markdown",
   "id": "b7baec14",
   "metadata": {},
   "source": [
    "## 5. Quais estratégias você sugeriria para um faturamento maior?"
   ]
  },
  {
   "cell_type": "markdown",
   "id": "dbd75678",
   "metadata": {},
   "source": [
    "- Aplicação de algoritmos de regressão na base de dados para prever as vendas das próximas semanas. O objetivo é ter o faturamento previsto em mãos pra planejar um budget de invesimento em novos produtos. Ex: salgados, sucos, verduras, legumes. A estratégia seria pesquisar pelos produtos mais vendidos na feira e trazer esses para o nosso negócio."
   ]
  }
 ],
 "metadata": {
  "kernelspec": {
   "display_name": "Python 3",
   "language": "python",
   "name": "python3"
  },
  "language_info": {
   "codemirror_mode": {
    "name": "ipython",
    "version": 3
   },
   "file_extension": ".py",
   "mimetype": "text/x-python",
   "name": "python",
   "nbconvert_exporter": "python",
   "pygments_lexer": "ipython3",
   "version": "3.8.8"
  }
 },
 "nbformat": 4,
 "nbformat_minor": 5
}
